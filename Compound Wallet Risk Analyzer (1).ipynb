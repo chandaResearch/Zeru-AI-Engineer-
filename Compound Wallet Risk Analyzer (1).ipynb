{
 "cells": [
  {
   "cell_type": "code",
   "execution_count": 2,
   "id": "d191bf5d-46d7-46f8-953b-e1c7a5a95b0c",
   "metadata": {},
   "outputs": [
    {
     "name": "stdout",
     "output_type": "stream",
     "text": [
      "                                    wallet_id\n",
      "0  0x0039f22efb07a647557c7c5d17854cfd6d489ef3\n",
      "1  0x06b51c6882b27cb05e712185531c1f74996dd988\n",
      "2  0x0795732aacc448030ef374374eaae57d2965c16c\n",
      "3  0x0aaa79f1a86bc8136cd0d1ca0d51964f4e3766f9\n",
      "4  0x0fe383e5abc200055a7f391f94a5f5d1f844b9ae\n",
      "✅ Total wallets loaded: 103\n",
      "['0x0039f22efb07a647557c7c5d17854cfd6d489ef3', '0x06b51c6882b27cb05e712185531c1f74996dd988', '0x0795732aacc448030ef374374eaae57d2965c16c', '0x0aaa79f1a86bc8136cd0d1ca0d51964f4e3766f9', '0x0fe383e5abc200055a7f391f94a5f5d1f844b9ae']\n"
     ]
    }
   ],
   "source": [
    "import pandas as pd\n",
    "\n",
    "# Load the CSV from your local path\n",
    "file_path = r\"C:\\Users\\lavki\\OneDrive\\Desktop\\pandas\\data_collection\\data-collection\\Wallet id - Sheet1.csv\"\n",
    "wallets_df = pd.read_csv(file_path)\n",
    "\n",
    "# View the first few rows\n",
    "print(wallets_df.head())\n",
    "\n",
    "# Extract and clean wallet addresses\n",
    "wallets = wallets_df.iloc[:, 0].dropna().str.lower().tolist()\n",
    "print(f\"✅ Total wallets loaded: {len(wallets)}\")\n",
    "print(wallets[:5])  # first 5 addresses\n"
   ]
  },
  {
   "cell_type": "markdown",
   "id": "f3d645d1-70e6-4be4-b5a1-f7768b7f7fc0",
   "metadata": {},
   "source": [
    "#**Step 2: Fetch Compound Protocol Data for Each Wallet\n",
    "**"
   ]
  },
  {
   "cell_type": "markdown",
   "id": "36b6d84d-29a7-4157-98d3-b92417522742",
   "metadata": {},
   "source": [
    "#**For each wallet, we want to fetch transactions like:\n",
    "\n",
    "Supply (mint)\n",
    "\n",
    "Borrow\n",
    "\n",
    "Repay\n",
    "\n",
    "Withdraw (redeem)\n",
    "\n",
    "Liquidation events**#"
   ]
  },
  {
   "cell_type": "markdown",
   "id": "510816ec-65df-4513-a55a-73a3709bbdd2",
   "metadata": {},
   "source": [
    "#**Use Web3.py + The Graph (Subgraph) for Compound\n",
    "More accurate on-chain data\n",
    "\n",
    "Slower and needs more setup (infura or alchemy node + GraphQL)**#"
   ]
  },
  {
   "cell_type": "markdown",
   "id": "7bd3c39b-e131-4e02-9651-6c70817b2770",
   "metadata": {},
   "source": [
    "#**Define GraphQL endpoint\n",
    "\n",
    "Create functions to query:\n",
    "\n",
    "Borrow\n",
    "\n",
    "Repay\n",
    "\n",
    "Supply (Mint)\n",
    "\n",
    "Redeem\n",
    "\n",
    "Liquidation\n",
    "\n",
    "Loop through wallet list\n",
    "\n",
    "Save per-wallet data into a structured format (CSV or DataFrame)**#"
   ]
  },
  {
   "cell_type": "code",
   "execution_count": 4,
   "id": "e7ff5b0c-d01b-4750-bf7c-5384db3ae5a6",
   "metadata": {},
   "outputs": [],
   "source": [
    "import requests\n",
    "import pandas as pd\n",
    "import time\n",
    "\n",
    "# Graph endpoint\n",
    "GRAPH_API_URL = \"https://api.thegraph.com/subgraphs/name/graphprotocol/compound-v2\"\n"
   ]
  },
  {
   "cell_type": "code",
   "execution_count": 5,
   "id": "10d55f33-04ae-4b85-be3b-d95fa28b6510",
   "metadata": {},
   "outputs": [],
   "source": [
    "def get_borrow_events(wallet_address):\n",
    "    query = \"\"\"\n",
    "    {\n",
    "      borrowEvents(\n",
    "        where: {borrower: \"%s\"}, \n",
    "        first: 1000, \n",
    "        orderBy: blockTimestamp, \n",
    "        orderDirection: desc\n",
    "      ) {\n",
    "        id\n",
    "        amount\n",
    "        reserve\n",
    "        blockTimestamp\n",
    "        txHash\n",
    "      }\n",
    "    }\n",
    "    \"\"\" % wallet_address.lower()\n",
    "\n",
    "    try:\n",
    "        response = requests.post(GRAPH_API_URL, json={'query': query})\n",
    "        data = response.json()\n",
    "        return data['data']['borrowEvents']\n",
    "    except Exception as e:\n",
    "        print(f\"Error for wallet {wallet_address}: {e}\")\n",
    "        return []\n"
   ]
  },
  {
   "cell_type": "code",
   "execution_count": 7,
   "id": "2827b891-e2d4-4d06-9dd4-716522d0d994",
   "metadata": {},
   "outputs": [
    {
     "data": {
      "text/html": [
       "<div>\n",
       "<style scoped>\n",
       "    .dataframe tbody tr th:only-of-type {\n",
       "        vertical-align: middle;\n",
       "    }\n",
       "\n",
       "    .dataframe tbody tr th {\n",
       "        vertical-align: top;\n",
       "    }\n",
       "\n",
       "    .dataframe thead th {\n",
       "        text-align: right;\n",
       "    }\n",
       "</style>\n",
       "<table border=\"1\" class=\"dataframe\">\n",
       "  <thead>\n",
       "    <tr style=\"text-align: right;\">\n",
       "      <th></th>\n",
       "      <th>wallet_id</th>\n",
       "    </tr>\n",
       "  </thead>\n",
       "  <tbody>\n",
       "    <tr>\n",
       "      <th>0</th>\n",
       "      <td>0x0039f22efb07a647557c7c5d17854cfd6d489ef3</td>\n",
       "    </tr>\n",
       "    <tr>\n",
       "      <th>1</th>\n",
       "      <td>0x06b51c6882b27cb05e712185531c1f74996dd988</td>\n",
       "    </tr>\n",
       "    <tr>\n",
       "      <th>2</th>\n",
       "      <td>0x0795732aacc448030ef374374eaae57d2965c16c</td>\n",
       "    </tr>\n",
       "    <tr>\n",
       "      <th>3</th>\n",
       "      <td>0x0aaa79f1a86bc8136cd0d1ca0d51964f4e3766f9</td>\n",
       "    </tr>\n",
       "    <tr>\n",
       "      <th>4</th>\n",
       "      <td>0x0fe383e5abc200055a7f391f94a5f5d1f844b9ae</td>\n",
       "    </tr>\n",
       "  </tbody>\n",
       "</table>\n",
       "</div>"
      ],
      "text/plain": [
       "                                    wallet_id\n",
       "0  0x0039f22efb07a647557c7c5d17854cfd6d489ef3\n",
       "1  0x06b51c6882b27cb05e712185531c1f74996dd988\n",
       "2  0x0795732aacc448030ef374374eaae57d2965c16c\n",
       "3  0x0aaa79f1a86bc8136cd0d1ca0d51964f4e3766f9\n",
       "4  0x0fe383e5abc200055a7f391f94a5f5d1f844b9ae"
      ]
     },
     "execution_count": 7,
     "metadata": {},
     "output_type": "execute_result"
    }
   ],
   "source": [
    "import pandas as pd\n",
    "\n",
    "# Load wallet CSV from local machine\n",
    "file_path = r\"C:\\Users\\lavki\\OneDrive\\Desktop\\pandas\\data_collection\\data-collection\\Wallet id - Sheet1.csv\"\n",
    "wallets_df = pd.read_csv(file_path)\n",
    "\n",
    "# Check the first few rows\n",
    "wallets_df.head()\n"
   ]
  },
  {
   "cell_type": "code",
   "execution_count": 8,
   "id": "4eca5bc6-ec18-4476-a80b-efc699659204",
   "metadata": {},
   "outputs": [
    {
     "name": "stdout",
     "output_type": "stream",
     "text": [
      "Total wallets loaded: 103\n",
      "['0x0039f22efb07a647557c7c5d17854cfd6d489ef3', '0x06b51c6882b27cb05e712185531c1f74996dd988', '0x0795732aacc448030ef374374eaae57d2965c16c', '0x0aaa79f1a86bc8136cd0d1ca0d51964f4e3766f9', '0x0fe383e5abc200055a7f391f94a5f5d1f844b9ae']\n"
     ]
    }
   ],
   "source": [
    "# Extract unique wallet addresses from the first column\n",
    "wallets = wallets_df.iloc[:, 0].dropna().unique().tolist()\n",
    "\n",
    "# Show count and first 5 wallets\n",
    "print(f\"Total wallets loaded: {len(wallets)}\")\n",
    "print(wallets[:5])\n"
   ]
  },
  {
   "cell_type": "code",
   "execution_count": 9,
   "id": "d6b73c49-a7c2-439f-a0ab-4e87c0535d91",
   "metadata": {},
   "outputs": [],
   "source": [
    "import time\n",
    "\n",
    "GRAPH_URL = \"https://api.thegraph.com/subgraphs/name/graphprotocol/compound-v2\"\n",
    "\n",
    "def run_query(query):\n",
    "    response = requests.post(GRAPH_URL, json={'query': query})\n",
    "    while response.status_code != 200:\n",
    "        time.sleep(1)\n",
    "        response = requests.post(GRAPH_URL, json={'query': query})\n",
    "    return response.json()\n",
    "\n",
    "def get_events(wallet, event_type):\n",
    "    all_data = []\n",
    "    skip = 0\n",
    "    while True:\n",
    "        query = f\"\"\"\n",
    "        {{\n",
    "          {event_type}s(first: 1000, skip: {skip}, where: {{ borrower: \"{wallet.lower()}\" }}) {{\n",
    "            amount\n",
    "            timestamp\n",
    "          }}\n",
    "        }}\n",
    "        \"\"\"\n",
    "        data = run_query(query).get(\"data\", {}).get(f\"{event_type}s\", [])\n",
    "        if not data:\n",
    "            break\n",
    "        all_data.extend(data)\n",
    "        skip += 1000\n",
    "    return all_data\n"
   ]
  },
  {
   "cell_type": "code",
   "execution_count": 12,
   "id": "76464936-ca07-468a-823c-5ca10a7305aa",
   "metadata": {},
   "outputs": [
    {
     "name": "stderr",
     "output_type": "stream",
     "text": [
      "100%|████████████████████████████████████████████████████████████████████████████████| 103/103 [00:47<00:00,  2.16it/s]\n"
     ]
    }
   ],
   "source": [
    "from tqdm import tqdm\n",
    "\n",
    "wallet_features = []\n",
    "\n",
    "for wallet in tqdm(wallets):\n",
    "  # Limit for now to 10 wallets for testing\n",
    "    borrows = get_events(wallet, \"borrow\")\n",
    "    repays = get_events(wallet, \"repay\")\n",
    "    liquidations = get_events(wallet, \"liquidation\")\n",
    "\n",
    "    borrow_total = sum(float(tx['amount']) for tx in borrows)\n",
    "    repay_total = sum(float(tx['amount']) for tx in repays)\n",
    "    liquidation_count = len(liquidations)\n",
    "\n",
    "    all_timestamps = [int(tx['timestamp']) for tx in borrows + repays + liquidations]\n",
    "    active_days = (max(all_timestamps) - min(all_timestamps)) // (60 * 60 * 24) if all_timestamps else 0\n",
    "\n",
    "    wallet_features.append({\n",
    "        \"wallet\": wallet,\n",
    "        \"total_borrowed\": borrow_total,\n",
    "        \"total_repaid\": repay_total,\n",
    "        \"num_borrows\": len(borrows),\n",
    "        \"num_repays\": len(repays),\n",
    "        \"num_liquidations\": liquidation_count,\n",
    "        \"active_days\": active_days\n",
    "    })\n"
   ]
  },
  {
   "cell_type": "code",
   "execution_count": 13,
   "id": "ba511779-f56d-465f-bf33-5f33dad21d7d",
   "metadata": {},
   "outputs": [
    {
     "data": {
      "text/html": [
       "<div>\n",
       "<style scoped>\n",
       "    .dataframe tbody tr th:only-of-type {\n",
       "        vertical-align: middle;\n",
       "    }\n",
       "\n",
       "    .dataframe tbody tr th {\n",
       "        vertical-align: top;\n",
       "    }\n",
       "\n",
       "    .dataframe thead th {\n",
       "        text-align: right;\n",
       "    }\n",
       "</style>\n",
       "<table border=\"1\" class=\"dataframe\">\n",
       "  <thead>\n",
       "    <tr style=\"text-align: right;\">\n",
       "      <th></th>\n",
       "      <th>wallet</th>\n",
       "      <th>total_borrowed</th>\n",
       "      <th>total_repaid</th>\n",
       "      <th>num_borrows</th>\n",
       "      <th>num_repays</th>\n",
       "      <th>num_liquidations</th>\n",
       "      <th>active_days</th>\n",
       "    </tr>\n",
       "  </thead>\n",
       "  <tbody>\n",
       "    <tr>\n",
       "      <th>0</th>\n",
       "      <td>0x0039f22efb07a647557c7c5d17854cfd6d489ef3</td>\n",
       "      <td>0</td>\n",
       "      <td>0</td>\n",
       "      <td>0</td>\n",
       "      <td>0</td>\n",
       "      <td>0</td>\n",
       "      <td>0</td>\n",
       "    </tr>\n",
       "    <tr>\n",
       "      <th>1</th>\n",
       "      <td>0x06b51c6882b27cb05e712185531c1f74996dd988</td>\n",
       "      <td>0</td>\n",
       "      <td>0</td>\n",
       "      <td>0</td>\n",
       "      <td>0</td>\n",
       "      <td>0</td>\n",
       "      <td>0</td>\n",
       "    </tr>\n",
       "    <tr>\n",
       "      <th>2</th>\n",
       "      <td>0x0795732aacc448030ef374374eaae57d2965c16c</td>\n",
       "      <td>0</td>\n",
       "      <td>0</td>\n",
       "      <td>0</td>\n",
       "      <td>0</td>\n",
       "      <td>0</td>\n",
       "      <td>0</td>\n",
       "    </tr>\n",
       "    <tr>\n",
       "      <th>3</th>\n",
       "      <td>0x0aaa79f1a86bc8136cd0d1ca0d51964f4e3766f9</td>\n",
       "      <td>0</td>\n",
       "      <td>0</td>\n",
       "      <td>0</td>\n",
       "      <td>0</td>\n",
       "      <td>0</td>\n",
       "      <td>0</td>\n",
       "    </tr>\n",
       "    <tr>\n",
       "      <th>4</th>\n",
       "      <td>0x0fe383e5abc200055a7f391f94a5f5d1f844b9ae</td>\n",
       "      <td>0</td>\n",
       "      <td>0</td>\n",
       "      <td>0</td>\n",
       "      <td>0</td>\n",
       "      <td>0</td>\n",
       "      <td>0</td>\n",
       "    </tr>\n",
       "  </tbody>\n",
       "</table>\n",
       "</div>"
      ],
      "text/plain": [
       "                                       wallet  total_borrowed  total_repaid  \\\n",
       "0  0x0039f22efb07a647557c7c5d17854cfd6d489ef3               0             0   \n",
       "1  0x06b51c6882b27cb05e712185531c1f74996dd988               0             0   \n",
       "2  0x0795732aacc448030ef374374eaae57d2965c16c               0             0   \n",
       "3  0x0aaa79f1a86bc8136cd0d1ca0d51964f4e3766f9               0             0   \n",
       "4  0x0fe383e5abc200055a7f391f94a5f5d1f844b9ae               0             0   \n",
       "\n",
       "   num_borrows  num_repays  num_liquidations  active_days  \n",
       "0            0           0                 0            0  \n",
       "1            0           0                 0            0  \n",
       "2            0           0                 0            0  \n",
       "3            0           0                 0            0  \n",
       "4            0           0                 0            0  "
      ]
     },
     "execution_count": 13,
     "metadata": {},
     "output_type": "execute_result"
    }
   ],
   "source": [
    "import pandas as pd\n",
    "\n",
    "df_features = pd.DataFrame(wallet_features)\n",
    "df_features.head()\n"
   ]
  },
  {
   "cell_type": "code",
   "execution_count": 17,
   "id": "8b59d1b7-f775-47e9-9038-928023a324a5",
   "metadata": {},
   "outputs": [
    {
     "name": "stdout",
     "output_type": "stream",
     "text": [
      "Variable            Type         Data/Info\n",
      "------------------------------------------\n",
      "GRAPH_API_URL       str          https://api.thegraph.com/<...>graphprotocol/compound-v2\n",
      "GRAPH_URL           str          https://api.thegraph.com/<...>graphprotocol/compound-v2\n",
      "active_days         int          0\n",
      "all_timestamps      list         n=0\n",
      "borrow_total        int          0\n",
      "borrows             list         n=0\n",
      "df_features         DataFrame                             <...>n\\n[103 rows x 7 columns]\n",
      "file_path           str          C:\\Users\\lavki\\OneDrive\\D<...>on\\Wallet id - Sheet1.csv\n",
      "get_borrow_events   function     <function get_borrow_even<...>ts at 0x000001D1C1DB0E00>\n",
      "get_events          function     <function get_events at 0x000001D1C1F76840>\n",
      "liquidation_count   int          0\n",
      "liquidations        list         n=0\n",
      "pd                  module       <module 'pandas' from 'C:<...>es\\\\pandas\\\\__init__.py'>\n",
      "repay_total         int          0\n",
      "repays              list         n=0\n",
      "requests            module       <module 'requests' from '<...>\\\\requests\\\\__init__.py'>\n",
      "run_query           function     <function run_query at 0x000001D1C1F76340>\n",
      "time                module       <module 'time' (built-in)>\n",
      "tqdm                type         <class 'tqdm.std.tqdm'>\n",
      "wallet              str          0xfe5a05c0f8b24fca15a7306f6a4ebb7dcf2186ac\n",
      "wallet_features     list         n=103\n",
      "wallets             list         n=103\n",
      "wallets_df          DataFrame                             <...>n\\n[103 rows x 1 columns]\n"
     ]
    }
   ],
   "source": [
    "%whos\n"
   ]
  },
  {
   "cell_type": "code",
   "execution_count": 18,
   "id": "c54d6cce-425b-4681-8463-aa7ca5fa02e1",
   "metadata": {},
   "outputs": [
    {
     "data": {
      "text/html": [
       "<div>\n",
       "<style scoped>\n",
       "    .dataframe tbody tr th:only-of-type {\n",
       "        vertical-align: middle;\n",
       "    }\n",
       "\n",
       "    .dataframe tbody tr th {\n",
       "        vertical-align: top;\n",
       "    }\n",
       "\n",
       "    .dataframe thead th {\n",
       "        text-align: right;\n",
       "    }\n",
       "</style>\n",
       "<table border=\"1\" class=\"dataframe\">\n",
       "  <thead>\n",
       "    <tr style=\"text-align: right;\">\n",
       "      <th></th>\n",
       "      <th>wallet</th>\n",
       "      <th>total_borrowed</th>\n",
       "      <th>total_repaid</th>\n",
       "      <th>num_borrows</th>\n",
       "      <th>num_repays</th>\n",
       "      <th>num_liquidations</th>\n",
       "      <th>active_days</th>\n",
       "    </tr>\n",
       "  </thead>\n",
       "  <tbody>\n",
       "  </tbody>\n",
       "</table>\n",
       "</div>"
      ],
      "text/plain": [
       "Empty DataFrame\n",
       "Columns: [wallet, total_borrowed, total_repaid, num_borrows, num_repays, num_liquidations, active_days]\n",
       "Index: []"
      ]
     },
     "execution_count": 18,
     "metadata": {},
     "output_type": "execute_result"
    }
   ],
   "source": [
    "active_wallets_df = df_features[\n",
    "    (df_features[\"total_borrowed\"] > 0) |\n",
    "    (df_features[\"total_repaid\"] > 0) |\n",
    "    (df_features[\"num_borrows\"] > 0) |\n",
    "    (df_features[\"num_repays\"] > 0) |\n",
    "    (df_features[\"num_liquidations\"] > 0)\n",
    "]\n",
    "\n",
    "active_wallets_df.head()\n"
   ]
  },
  {
   "cell_type": "code",
   "execution_count": 19,
   "id": "b1cac0ab-2b3a-437f-a5b1-3226e7ef9b0f",
   "metadata": {},
   "outputs": [],
   "source": [
    "import numpy as np\n",
    "\n",
    "def compute_risk_score(row):\n",
    "    # Handle division safely\n",
    "    repayment_ratio = row['total_repaid'] / row['total_borrowed'] if row['total_borrowed'] > 0 else 1\n",
    "    liquidation_penalty = row['num_liquidations'] * 50\n",
    "    repayment_penalty = (1 - repayment_ratio) * 300  # more weight to repayment\n",
    "    active_days_score = min(row['active_days'], 100)  # cap influence of very long activity\n",
    "    \n",
    "    # Start from a base score\n",
    "    risk = 1000 - (repayment_penalty + liquidation_penalty) + active_days_score\n",
    "    return int(np.clip(risk, 0, 1000))  # Ensure between 0 and 1000\n"
   ]
  },
  {
   "cell_type": "code",
   "execution_count": 20,
   "id": "9f6e3c0c-5377-46bf-a446-893919c879d6",
   "metadata": {},
   "outputs": [
    {
     "data": {
      "text/html": [
       "<div>\n",
       "<style scoped>\n",
       "    .dataframe tbody tr th:only-of-type {\n",
       "        vertical-align: middle;\n",
       "    }\n",
       "\n",
       "    .dataframe tbody tr th {\n",
       "        vertical-align: top;\n",
       "    }\n",
       "\n",
       "    .dataframe thead th {\n",
       "        text-align: right;\n",
       "    }\n",
       "</style>\n",
       "<table border=\"1\" class=\"dataframe\">\n",
       "  <thead>\n",
       "    <tr style=\"text-align: right;\">\n",
       "      <th></th>\n",
       "      <th>wallet</th>\n",
       "      <th>score</th>\n",
       "    </tr>\n",
       "  </thead>\n",
       "  <tbody>\n",
       "    <tr>\n",
       "      <th>0</th>\n",
       "      <td>0x0039f22efb07a647557c7c5d17854cfd6d489ef3</td>\n",
       "      <td>1000</td>\n",
       "    </tr>\n",
       "    <tr>\n",
       "      <th>1</th>\n",
       "      <td>0x06b51c6882b27cb05e712185531c1f74996dd988</td>\n",
       "      <td>1000</td>\n",
       "    </tr>\n",
       "    <tr>\n",
       "      <th>2</th>\n",
       "      <td>0x0795732aacc448030ef374374eaae57d2965c16c</td>\n",
       "      <td>1000</td>\n",
       "    </tr>\n",
       "    <tr>\n",
       "      <th>3</th>\n",
       "      <td>0x0aaa79f1a86bc8136cd0d1ca0d51964f4e3766f9</td>\n",
       "      <td>1000</td>\n",
       "    </tr>\n",
       "    <tr>\n",
       "      <th>4</th>\n",
       "      <td>0x0fe383e5abc200055a7f391f94a5f5d1f844b9ae</td>\n",
       "      <td>1000</td>\n",
       "    </tr>\n",
       "  </tbody>\n",
       "</table>\n",
       "</div>"
      ],
      "text/plain": [
       "                                       wallet  score\n",
       "0  0x0039f22efb07a647557c7c5d17854cfd6d489ef3   1000\n",
       "1  0x06b51c6882b27cb05e712185531c1f74996dd988   1000\n",
       "2  0x0795732aacc448030ef374374eaae57d2965c16c   1000\n",
       "3  0x0aaa79f1a86bc8136cd0d1ca0d51964f4e3766f9   1000\n",
       "4  0x0fe383e5abc200055a7f391f94a5f5d1f844b9ae   1000"
      ]
     },
     "execution_count": 20,
     "metadata": {},
     "output_type": "execute_result"
    }
   ],
   "source": [
    "df_features[\"score\"] = df_features.apply(compute_risk_score, axis=1)\n",
    "df_features[[\"wallet\", \"score\"]].head()\n"
   ]
  },
  {
   "cell_type": "code",
   "execution_count": null,
   "id": "9cffcbde-4b83-43b6-9a93-07add01dc1ab",
   "metadata": {},
   "outputs": [],
   "source": []
  }
 ],
 "metadata": {
  "kernelspec": {
   "display_name": "Python 3 (ipykernel)",
   "language": "python",
   "name": "python3"
  },
  "language_info": {
   "codemirror_mode": {
    "name": "ipython",
    "version": 3
   },
   "file_extension": ".py",
   "mimetype": "text/x-python",
   "name": "python",
   "nbconvert_exporter": "python",
   "pygments_lexer": "ipython3",
   "version": "3.12.5"
  }
 },
 "nbformat": 4,
 "nbformat_minor": 5
}
